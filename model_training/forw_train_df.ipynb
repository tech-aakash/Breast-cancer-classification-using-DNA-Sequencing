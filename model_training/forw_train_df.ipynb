{
 "cells": [
  {
   "cell_type": "markdown",
   "id": "167240b1",
   "metadata": {},
   "source": [
    "# make a fresh dataframe with id, embedding, class"
   ]
  },
  {
   "cell_type": "markdown",
   "id": "a4090087",
   "metadata": {},
   "source": [
    "#### Importing cancerous parquet file and adding 1 as the class label to all of them"
   ]
  },
  {
   "cell_type": "code",
   "execution_count": 1,
   "id": "c80d2ca1",
   "metadata": {},
   "outputs": [],
   "source": [
    "import pandas as pd"
   ]
  },
  {
   "cell_type": "code",
   "execution_count": 2,
   "id": "a73d0ba2",
   "metadata": {},
   "outputs": [],
   "source": [
    "import pandas as pd\n",
    "import numpy as np\n",
    "\n",
    "# Load DataFrame\n",
    "df = pd.read_parquet(\"/home/azureuser/dna_sequencing/Anushka/sampled_embeddings/embeddings_forw_can.parquet\")\n",
    "\n",
    "# Prepare data\n",
    "embedding_cols = [col for col in df.columns if col.startswith(\"emb_\")]\n",
    "embeddings = df[embedding_cols].values.astype(np.float32)  # (n_samples, 768)\n",
    "ids = df[\"id\"].values  # optional: save other columns too"
   ]
  },
  {
   "cell_type": "code",
   "execution_count": 3,
   "id": "9d52c255",
   "metadata": {},
   "outputs": [],
   "source": [
    "# Save embeddings as .npy (very fast and efficient)\n",
    "np.save(\"/home/azureuser/dna_sequencing/model_training/embeddings_forw_can.npy\", embeddings)\n",
    "\n",
    "# Save ids to CSV\n",
    "pd.DataFrame({\"id\": ids}).to_csv(\"/home/azureuser/dna_sequencing/model_training/embeddings_ids.csv\", index=False)"
   ]
  },
  {
   "cell_type": "code",
   "execution_count": 7,
   "id": "ddfb9dcd",
   "metadata": {},
   "outputs": [],
   "source": [
    "import pandas as pd\n",
    "import numpy as np\n",
    "\n",
    "# Load DataFrame\n",
    "df = pd.read_parquet(\"/home/azureuser/dna_sequencing/Anushka/sampled_embeddings/embeddings_forw_noncan.parquet\")\n",
    "\n",
    "# Prepare data\n",
    "embedding_cols = [col for col in df.columns if col.startswith(\"emb_\")]\n",
    "embeddings = df[embedding_cols].values.astype(np.float32)  # (n_samples, 768)\n",
    "ids = df[\"id\"].values  # optional: save other columns too"
   ]
  },
  {
   "cell_type": "code",
   "execution_count": 8,
   "id": "103491b4",
   "metadata": {},
   "outputs": [],
   "source": [
    "# Save embeddings as .npy (very fast and efficient)\n",
    "np.save(\"/home/azureuser/dna_sequencing/model_training/embeddings_forw_noncan.npy\", embeddings)\n",
    "\n",
    "# Save ids to CSV\n",
    "pd.DataFrame({\"id\": ids}).to_csv(\"/home/azureuser/dna_sequencing/model_training/embeddings_ids2.csv\", index=False)"
   ]
  },
  {
   "cell_type": "code",
   "execution_count": 4,
   "id": "49a7e819",
   "metadata": {},
   "outputs": [
    {
     "name": "stdout",
     "output_type": "stream",
     "text": [
      "              id  label                                          embedding\n",
      "0  SRR5177930.19      1  [0.078438416, 0.23246941, -0.09033844, -0.5846...\n",
      "1  SRR5177930.28      1  [0.8875472, -0.42859563, -0.34571132, -0.30669...\n",
      "2  SRR5177930.38      1  [-1.5179863, -0.49738654, -0.35797656, 0.02045...\n",
      "3  SRR5177930.39      1  [0.07762874, -0.4367457, -0.55085236, -1.23886...\n",
      "4  SRR5177930.58      1  [-1.0721344, -0.41546282, 0.47115257, 0.017932...\n",
      "(1153628, 3)\n"
     ]
    }
   ],
   "source": [
    "import numpy as np\n",
    "import pandas as pd\n",
    "\n",
    "# === Load embeddings and IDs ===\n",
    "\n",
    "# Cancerous\n",
    "emb_cancer = np.load(\"/home/azureuser/dna_sequencing/model_training/embeddings_forw_can.npy\")\n",
    "ids_cancer = pd.read_csv(\"/home/azureuser/dna_sequencing/model_training/embeddings_ids.csv\")[\"id\"]\n",
    "labels_cancer = np.ones(len(ids_cancer), dtype=int)  # label 1\n",
    "\n",
    "# Non-cancerous\n",
    "emb_noncan = np.load(\"/home/azureuser/dna_sequencing/model_training/embeddings_forw_noncan.npy\")\n",
    "ids_noncan = pd.read_csv(\"/home/azureuser/dna_sequencing/model_training/embeddings_ids2.csv\")[\"id\"]\n",
    "labels_noncan = np.zeros(len(ids_noncan), dtype=int)  # label 0\n",
    "\n",
    "# === Combine all ===\n",
    "# Stack embeddings\n",
    "X = np.vstack([emb_cancer, emb_noncan])\n",
    "\n",
    "# Combine IDs and labels\n",
    "all_ids = pd.concat([ids_cancer, ids_noncan], ignore_index=True)\n",
    "all_labels = np.concatenate([labels_cancer, labels_noncan])\n",
    "\n",
    "# === Final DataFrame ===\n",
    "df_combined = pd.DataFrame({\n",
    "    \"id\": all_ids,\n",
    "    \"label\": all_labels,\n",
    "    \"embedding\": list(X)  # list of 768-d vectors per row\n",
    "})\n",
    "\n",
    "# ✅ Preview\n",
    "print(df_combined.head())\n",
    "print(df_combined.shape)"
   ]
  },
  {
   "cell_type": "code",
   "execution_count": 5,
   "id": "1ce7d00e",
   "metadata": {},
   "outputs": [
    {
     "data": {
      "text/html": [
       "<div>\n",
       "<style scoped>\n",
       "    .dataframe tbody tr th:only-of-type {\n",
       "        vertical-align: middle;\n",
       "    }\n",
       "\n",
       "    .dataframe tbody tr th {\n",
       "        vertical-align: top;\n",
       "    }\n",
       "\n",
       "    .dataframe thead th {\n",
       "        text-align: right;\n",
       "    }\n",
       "</style>\n",
       "<table border=\"1\" class=\"dataframe\">\n",
       "  <thead>\n",
       "    <tr style=\"text-align: right;\">\n",
       "      <th></th>\n",
       "      <th>id</th>\n",
       "      <th>label</th>\n",
       "      <th>embedding</th>\n",
       "    </tr>\n",
       "  </thead>\n",
       "  <tbody>\n",
       "    <tr>\n",
       "      <th>0</th>\n",
       "      <td>SRR5177930.17201757</td>\n",
       "      <td>1</td>\n",
       "      <td>[-0.43428636, 0.632174, -0.4035869, -0.9728157...</td>\n",
       "    </tr>\n",
       "    <tr>\n",
       "      <th>1</th>\n",
       "      <td>SRR6269879.14204815</td>\n",
       "      <td>0</td>\n",
       "      <td>[-0.22070847, 0.4197767, -0.636437, -0.8004252...</td>\n",
       "    </tr>\n",
       "    <tr>\n",
       "      <th>2</th>\n",
       "      <td>SRR6269879.15909519</td>\n",
       "      <td>0</td>\n",
       "      <td>[-0.36173493, 0.4392325, -0.24926521, 0.600837...</td>\n",
       "    </tr>\n",
       "    <tr>\n",
       "      <th>3</th>\n",
       "      <td>SRR6269879.38607693</td>\n",
       "      <td>0</td>\n",
       "      <td>[0.36612132, 1.3904184, -0.49522582, -1.127522...</td>\n",
       "    </tr>\n",
       "    <tr>\n",
       "      <th>4</th>\n",
       "      <td>SRR6269879.16107409</td>\n",
       "      <td>0</td>\n",
       "      <td>[-1.9264296, 1.6691118, 0.05958501, -1.8638941...</td>\n",
       "    </tr>\n",
       "  </tbody>\n",
       "</table>\n",
       "</div>"
      ],
      "text/plain": [
       "                    id  label  \\\n",
       "0  SRR5177930.17201757      1   \n",
       "1  SRR6269879.14204815      0   \n",
       "2  SRR6269879.15909519      0   \n",
       "3  SRR6269879.38607693      0   \n",
       "4  SRR6269879.16107409      0   \n",
       "\n",
       "                                           embedding  \n",
       "0  [-0.43428636, 0.632174, -0.4035869, -0.9728157...  \n",
       "1  [-0.22070847, 0.4197767, -0.636437, -0.8004252...  \n",
       "2  [-0.36173493, 0.4392325, -0.24926521, 0.600837...  \n",
       "3  [0.36612132, 1.3904184, -0.49522582, -1.127522...  \n",
       "4  [-1.9264296, 1.6691118, 0.05958501, -1.8638941...  "
      ]
     },
     "execution_count": 5,
     "metadata": {},
     "output_type": "execute_result"
    }
   ],
   "source": [
    "# Shuffle the rows of df_combined randomly\n",
    "df_combined_shuffled = df_combined.sample(frac=1, random_state=42).reset_index(drop=True)\n",
    "df_combined_shuffled.head()"
   ]
  },
  {
   "cell_type": "code",
   "execution_count": 6,
   "id": "69deb7ee",
   "metadata": {},
   "outputs": [
    {
     "name": "stderr",
     "output_type": "stream",
     "text": [
      "/home/azureuser/anaconda3/envs/dna_sequence/lib/python3.9/site-packages/tqdm/auto.py:21: TqdmWarning: IProgress not found. Please update jupyter and ipywidgets. See https://ipywidgets.readthedocs.io/en/stable/user_install.html\n",
      "  from .autonotebook import tqdm as notebook_tqdm\n"
     ]
    },
    {
     "name": "stdout",
     "output_type": "stream",
     "text": [
      "🧠 CPU Cores: 8\n",
      "💾 Available RAM: 33.37 GB\n"
     ]
    },
    {
     "name": "stderr",
     "output_type": "stream",
     "text": [
      "[I 2025-06-13 19:14:34,630] A new study created in memory with name: no-name-89c0547b-dac1-4d2f-9dea-516167c1a4b3\n",
      "Best trial: 0. Best value: 0.638358:   4%|▍         | 1/25 [08:16<3:18:33, 496.41s/it]"
     ]
    },
    {
     "name": "stdout",
     "output_type": "stream",
     "text": [
      "[I 2025-06-13 19:22:51,042] Trial 0 finished with value: 0.638358266111603 and parameters: {'n_estimators': 186, 'max_depth': 39, 'max_features': 'log2'}. Best is trial 0 with value: 0.638358266111603.\n"
     ]
    },
    {
     "name": "stderr",
     "output_type": "stream",
     "text": [
      "Best trial: 0. Best value: 0.638358:   8%|▊         | 2/25 [23:49<4:48:46, 753.34s/it]"
     ]
    },
    {
     "name": "stdout",
     "output_type": "stream",
     "text": [
      "[I 2025-06-13 19:38:24,231] Trial 1 finished with value: 0.6352057579154752 and parameters: {'n_estimators': 159, 'max_depth': 15, 'max_features': 'sqrt'}. Best is trial 0 with value: 0.638358266111603.\n"
     ]
    },
    {
     "name": "stderr",
     "output_type": "stream",
     "text": [
      "Best trial: 2. Best value: 0.639373:  12%|█▏        | 3/25 [48:41<6:39:53, 1090.61s/it]"
     ]
    },
    {
     "name": "stdout",
     "output_type": "stream",
     "text": [
      "[I 2025-06-13 20:03:16,200] Trial 2 finished with value: 0.6393734479503199 and parameters: {'n_estimators': 192, 'max_depth': 50, 'max_features': 'sqrt'}. Best is trial 2 with value: 0.6393734479503199.\n"
     ]
    },
    {
     "name": "stderr",
     "output_type": "stream",
     "text": [
      "Best trial: 2. Best value: 0.639373:  16%|█▌        | 4/25 [1:08:13<6:32:58, 1122.78s/it]"
     ]
    },
    {
     "name": "stdout",
     "output_type": "stream",
     "text": [
      "[I 2025-06-13 20:22:48,279] Trial 3 finished with value: 0.6388609648733419 and parameters: {'n_estimators': 152, 'max_depth': 48, 'max_features': 'sqrt'}. Best is trial 2 with value: 0.6393734479503199.\n"
     ]
    },
    {
     "name": "stderr",
     "output_type": "stream",
     "text": [
      "Best trial: 2. Best value: 0.639373:  20%|██        | 5/25 [1:23:27<5:49:11, 1047.59s/it]"
     ]
    },
    {
     "name": "stdout",
     "output_type": "stream",
     "text": [
      "[I 2025-06-13 20:38:02,560] Trial 4 finished with value: 0.6381387508734085 and parameters: {'n_estimators': 145, 'max_depth': 17, 'max_features': 'sqrt'}. Best is trial 2 with value: 0.6393734479503199.\n"
     ]
    },
    {
     "name": "stderr",
     "output_type": "stream",
     "text": [
      "Best trial: 2. Best value: 0.639373:  24%|██▍       | 6/25 [1:41:51<5:37:46, 1066.67s/it]"
     ]
    },
    {
     "name": "stdout",
     "output_type": "stream",
     "text": [
      "[I 2025-06-13 20:56:26,277] Trial 5 finished with value: 0.637691089870599 and parameters: {'n_estimators': 142, 'max_depth': 46, 'max_features': 'sqrt'}. Best is trial 2 with value: 0.6393734479503199.\n"
     ]
    },
    {
     "name": "stderr",
     "output_type": "stream",
     "text": [
      "Best trial: 2. Best value: 0.639373:  28%|██▊       | 7/25 [1:49:04<4:17:49, 859.42s/it] "
     ]
    },
    {
     "name": "stdout",
     "output_type": "stream",
     "text": [
      "[I 2025-06-13 21:03:39,014] Trial 6 finished with value: 0.6305989152120998 and parameters: {'n_estimators': 53, 'max_depth': 46, 'max_features': 'sqrt'}. Best is trial 2 with value: 0.6393734479503199.\n"
     ]
    },
    {
     "name": "stderr",
     "output_type": "stream",
     "text": [
      "Best trial: 2. Best value: 0.639373:  32%|███▏      | 8/25 [2:05:46<4:16:22, 904.83s/it]"
     ]
    },
    {
     "name": "stdout",
     "output_type": "stream",
     "text": [
      "[I 2025-06-13 21:20:21,058] Trial 7 finished with value: 0.6380358862231883 and parameters: {'n_estimators': 128, 'max_depth': 43, 'max_features': 'sqrt'}. Best is trial 2 with value: 0.6393734479503199.\n"
     ]
    },
    {
     "name": "stderr",
     "output_type": "stream",
     "text": [
      "Best trial: 2. Best value: 0.639373:  36%|███▌      | 9/25 [2:10:39<3:10:15, 713.48s/it]"
     ]
    },
    {
     "name": "stdout",
     "output_type": "stream",
     "text": [
      "[I 2025-06-13 21:25:13,801] Trial 8 finished with value: 0.6224405421235991 and parameters: {'n_estimators': 169, 'max_depth': 11, 'max_features': 'log2'}. Best is trial 2 with value: 0.6393734479503199.\n"
     ]
    },
    {
     "name": "stderr",
     "output_type": "stream",
     "text": [
      "Best trial: 2. Best value: 0.639373:  40%|████      | 10/25 [2:16:41<2:31:13, 604.92s/it]"
     ]
    },
    {
     "name": "stdout",
     "output_type": "stream",
     "text": [
      "[I 2025-06-13 21:31:15,648] Trial 9 finished with value: 0.6367364197147197 and parameters: {'n_estimators': 137, 'max_depth': 30, 'max_features': 'log2'}. Best is trial 2 with value: 0.6393734479503199.\n"
     ]
    },
    {
     "name": "stderr",
     "output_type": "stream",
     "text": [
      "Best trial: 2. Best value: 0.639373:  44%|████▍     | 11/25 [2:20:31<1:54:24, 490.32s/it]"
     ]
    },
    {
     "name": "stdout",
     "output_type": "stream",
     "text": [
      "[I 2025-06-13 21:35:06,108] Trial 10 finished with value: 0.6325590457509592 and parameters: {'n_estimators': 86, 'max_depth': 32, 'max_features': 'log2'}. Best is trial 2 with value: 0.6393734479503199.\n"
     ]
    },
    {
     "name": "stderr",
     "output_type": "stream",
     "text": [
      "Best trial: 11. Best value: 0.639885:  48%|████▊     | 12/25 [2:45:43<2:53:33, 801.07s/it]"
     ]
    },
    {
     "name": "stdout",
     "output_type": "stream",
     "text": [
      "[I 2025-06-13 22:00:17,928] Trial 11 finished with value: 0.6398848735216744 and parameters: {'n_estimators': 197, 'max_depth': 50, 'max_features': 'sqrt'}. Best is trial 11 with value: 0.6398848735216744.\n"
     ]
    },
    {
     "name": "stderr",
     "output_type": "stream",
     "text": [
      "Best trial: 12. Best value: 0.640582:  52%|█████▏    | 13/25 [3:11:06<3:23:59, 1019.93s/it]"
     ]
    },
    {
     "name": "stdout",
     "output_type": "stream",
     "text": [
      "[I 2025-06-13 22:25:41,462] Trial 12 finished with value: 0.6405818846143012 and parameters: {'n_estimators': 200, 'max_depth': 36, 'max_features': 'sqrt'}. Best is trial 12 with value: 0.6405818846143012.\n"
     ]
    },
    {
     "name": "stderr",
     "output_type": "stream",
     "text": [
      "Best trial: 13. Best value: 0.641092:  56%|█████▌    | 14/25 [3:36:35<3:35:09, 1173.62s/it]"
     ]
    },
    {
     "name": "stdout",
     "output_type": "stream",
     "text": [
      "[I 2025-06-13 22:51:10,201] Trial 13 finished with value: 0.6410916915684092 and parameters: {'n_estimators': 200, 'max_depth': 35, 'max_features': 'sqrt'}. Best is trial 13 with value: 0.6410916915684092.\n"
     ]
    },
    {
     "name": "stderr",
     "output_type": "stream",
     "text": [
      "Best trial: 13. Best value: 0.641092:  60%|██████    | 15/25 [3:48:54<2:53:46, 1042.69s/it]"
     ]
    },
    {
     "name": "stdout",
     "output_type": "stream",
     "text": [
      "[I 2025-06-13 23:03:29,464] Trial 14 finished with value: 0.6364050136310268 and parameters: {'n_estimators': 98, 'max_depth': 32, 'max_features': 'sqrt'}. Best is trial 13 with value: 0.6410916915684092.\n"
     ]
    },
    {
     "name": "stderr",
     "output_type": "stream",
     "text": [
      "Best trial: 13. Best value: 0.641092:  64%|██████▍   | 16/25 [4:09:29<2:45:04, 1100.48s/it]"
     ]
    },
    {
     "name": "stdout",
     "output_type": "stream",
     "text": [
      "[I 2025-06-13 23:24:04,156] Trial 15 finished with value: 0.6409674705479788 and parameters: {'n_estimators': 171, 'max_depth': 25, 'max_features': 'sqrt'}. Best is trial 13 with value: 0.6410916915684092.\n"
     ]
    },
    {
     "name": "stderr",
     "output_type": "stream",
     "text": [
      "Best trial: 13. Best value: 0.641092:  68%|██████▊   | 17/25 [4:29:57<2:31:50, 1138.79s/it]"
     ]
    },
    {
     "name": "stdout",
     "output_type": "stream",
     "text": [
      "[I 2025-06-13 23:44:32,027] Trial 16 finished with value: 0.6409003757031632 and parameters: {'n_estimators': 173, 'max_depth': 24, 'max_features': 'sqrt'}. Best is trial 13 with value: 0.6410916915684092.\n"
     ]
    },
    {
     "name": "stderr",
     "output_type": "stream",
     "text": [
      "Best trial: 13. Best value: 0.641092:  72%|███████▏  | 18/25 [4:43:51<2:02:11, 1047.30s/it]"
     ]
    },
    {
     "name": "stdout",
     "output_type": "stream",
     "text": [
      "[I 2025-06-13 23:58:26,369] Trial 17 finished with value: 0.6391961329218678 and parameters: {'n_estimators': 113, 'max_depth': 25, 'max_features': 'sqrt'}. Best is trial 13 with value: 0.6410916915684092.\n"
     ]
    },
    {
     "name": "stderr",
     "output_type": "stream",
     "text": [
      "Best trial: 13. Best value: 0.641092:  76%|███████▌  | 19/25 [4:51:19<1:26:43, 867.25s/it] "
     ]
    },
    {
     "name": "stdout",
     "output_type": "stream",
     "text": [
      "[I 2025-06-14 00:05:54,173] Trial 18 finished with value: 0.638689812868136 and parameters: {'n_estimators': 177, 'max_depth': 24, 'max_features': 'log2'}. Best is trial 13 with value: 0.6410916915684092.\n"
     ]
    },
    {
     "name": "stderr",
     "output_type": "stream",
     "text": [
      "Best trial: 19. Best value: 0.641241:  80%|████████  | 20/25 [5:10:34<1:19:28, 953.63s/it]"
     ]
    },
    {
     "name": "stdout",
     "output_type": "stream",
     "text": [
      "[I 2025-06-14 00:25:09,118] Trial 19 finished with value: 0.641240913702536 and parameters: {'n_estimators': 165, 'max_depth': 20, 'max_features': 'sqrt'}. Best is trial 19 with value: 0.641240913702536.\n"
     ]
    },
    {
     "name": "stderr",
     "output_type": "stream",
     "text": [
      "Best trial: 19. Best value: 0.641241:  84%|████████▍ | 21/25 [5:30:57<1:08:58, 1034.55s/it]"
     ]
    },
    {
     "name": "stdout",
     "output_type": "stream",
     "text": [
      "[I 2025-06-14 00:45:32,354] Trial 20 finished with value: 0.6409688555696174 and parameters: {'n_estimators': 184, 'max_depth': 19, 'max_features': 'sqrt'}. Best is trial 19 with value: 0.641240913702536.\n"
     ]
    },
    {
     "name": "stderr",
     "output_type": "stream",
     "text": [
      "Best trial: 19. Best value: 0.641241:  88%|████████▊ | 22/25 [5:49:56<53:17, 1065.72s/it]  "
     ]
    },
    {
     "name": "stdout",
     "output_type": "stream",
     "text": [
      "[I 2025-06-14 01:04:30,753] Trial 21 finished with value: 0.6387443281844554 and parameters: {'n_estimators': 184, 'max_depth': 17, 'max_features': 'sqrt'}. Best is trial 19 with value: 0.641240913702536.\n"
     ]
    },
    {
     "name": "stderr",
     "output_type": "stream",
     "text": [
      "Best trial: 22. Best value: 0.641507:  92%|█████████▏| 23/25 [6:08:08<35:47, 1073.81s/it]"
     ]
    },
    {
     "name": "stdout",
     "output_type": "stream",
     "text": [
      "[I 2025-06-14 01:22:43,424] Trial 22 finished with value: 0.6415073188742563 and parameters: {'n_estimators': 163, 'max_depth': 20, 'max_features': 'sqrt'}. Best is trial 22 with value: 0.6415073188742563.\n"
     ]
    },
    {
     "name": "stderr",
     "output_type": "stream",
     "text": [
      "Best trial: 23. Best value: 0.64154:  96%|█████████▌| 24/25 [6:26:28<18:01, 1081.52s/it] "
     ]
    },
    {
     "name": "stdout",
     "output_type": "stream",
     "text": [
      "[I 2025-06-14 01:41:02,923] Trial 23 finished with value: 0.6415404721023737 and parameters: {'n_estimators': 161, 'max_depth': 21, 'max_features': 'sqrt'}. Best is trial 23 with value: 0.6415404721023737.\n"
     ]
    },
    {
     "name": "stderr",
     "output_type": "stream",
     "text": [
      "Best trial: 23. Best value: 0.64154: 100%|██████████| 25/25 [6:44:49<00:00, 971.60s/it] \n"
     ]
    },
    {
     "name": "stdout",
     "output_type": "stream",
     "text": [
      "[I 2025-06-14 01:59:24,614] Trial 24 finished with value: 0.6413229879297145 and parameters: {'n_estimators': 158, 'max_depth': 21, 'max_features': 'sqrt'}. Best is trial 23 with value: 0.6415404721023737.\n",
      "\n",
      "✅ Best Params: {'n_estimators': 161, 'max_depth': 21, 'max_features': 'sqrt'}\n",
      "⭐ Best F1 Score: 0.6415\n"
     ]
    },
    {
     "name": "stderr",
     "output_type": "stream",
     "text": [
      "[Parallel(n_jobs=7)]: Using backend ThreadingBackend with 7 concurrent workers.\n",
      "[Parallel(n_jobs=7)]: Done  36 tasks      | elapsed:  6.0min\n",
      "[Parallel(n_jobs=7)]: Done 161 out of 161 | elapsed: 24.2min finished\n"
     ]
    },
    {
     "name": "stdout",
     "output_type": "stream",
     "text": [
      "💾 Saved as: forw_final_randomforest_optuna_model.joblib\n"
     ]
    }
   ],
   "source": [
    "import numpy as np\n",
    "import pandas as pd\n",
    "import optuna\n",
    "from sklearn.ensemble import RandomForestClassifier\n",
    "from sklearn.model_selection import train_test_split\n",
    "from sklearn.metrics import f1_score\n",
    "import psutil\n",
    "import os\n",
    "import gc\n",
    "import joblib\n",
    "\n",
    "# === System-aware configuration ===\n",
    "NUM_CORES = os.cpu_count()\n",
    "RAM_GB = psutil.virtual_memory().available / (1024 ** 3)\n",
    "print(f\"🧠 CPU Cores: {NUM_CORES}\")\n",
    "print(f\"💾 Available RAM: {RAM_GB:.2f} GB\")\n",
    "\n",
    "# === Load and Prepare Data ===\n",
    "df = df_combined_shuffled.copy()\n",
    "X = np.stack(df[\"embedding\"].values).astype(np.float32)\n",
    "y = df[\"label\"].values.astype(np.uint8)\n",
    "del df\n",
    "gc.collect()\n",
    "\n",
    "# === Train/Test Split ===\n",
    "X_train, X_valid, y_train, y_valid = train_test_split(\n",
    "    X, y, test_size=0.2, stratify=y, random_state=42\n",
    ")\n",
    "\n",
    "# === Define Objective Function ===\n",
    "def objective(trial):\n",
    "    params = {\n",
    "        \"n_estimators\": trial.suggest_int(\"n_estimators\", 50, 200),\n",
    "        \"max_depth\": trial.suggest_int(\"max_depth\", 10, 50),\n",
    "        \"max_features\": trial.suggest_categorical(\"max_features\", [\"sqrt\", \"log2\"]),\n",
    "        \"n_jobs\": NUM_CORES - 1,\n",
    "        \"random_state\": 42,\n",
    "        \"verbose\": 0\n",
    "    }\n",
    "    model = RandomForestClassifier(**params)\n",
    "    model.fit(X_train, y_train)\n",
    "    y_pred = model.predict(X_valid)\n",
    "    return f1_score(y_valid, y_pred, average=\"weighted\")\n",
    "\n",
    "# === Run Optuna Study ===\n",
    "study = optuna.create_study(direction=\"maximize\")\n",
    "study.optimize(objective, n_trials=25, show_progress_bar=True)\n",
    "\n",
    "# === Output Best Params ===\n",
    "print(f\"\\n✅ Best Params: {study.best_params}\")\n",
    "print(f\"⭐ Best F1 Score: {study.best_value:.4f}\")\n",
    "\n",
    "# === Train Final Model ===\n",
    "best_model = RandomForestClassifier(\n",
    "    **study.best_params,\n",
    "    n_jobs=NUM_CORES - 1,\n",
    "    random_state=42,\n",
    "    verbose=1\n",
    ")\n",
    "best_model.fit(X, y)\n",
    "\n",
    "# === Save Model ===\n",
    "joblib.dump(best_model, \"forw_final_randomforest_optuna_model.joblib\")\n",
    "print(\"💾 Saved as: forw_final_randomforest_optuna_model.joblib\")"
   ]
  },
  {
   "cell_type": "code",
   "execution_count": null,
   "id": "9bdd8bc3",
   "metadata": {},
   "outputs": [
    {
     "name": "stderr",
     "output_type": "stream",
     "text": [
      "/home/azureuser/anaconda3/envs/dna_sequence/lib/python3.9/site-packages/tqdm/auto.py:21: TqdmWarning: IProgress not found. Please update jupyter and ipywidgets. See https://ipywidgets.readthedocs.io/en/stable/user_install.html\n",
      "  from .autonotebook import tqdm as notebook_tqdm\n",
      "[I 2025-06-13 18:32:10,020] A new study created in memory with name: no-name-8e10c207-d798-4db4-b189-9c41b483333a\n"
     ]
    },
    {
     "name": "stdout",
     "output_type": "stream",
     "text": [
      "🧠 CPU Cores: 8\n",
      "💾 Available RAM: 21.45 GB\n"
     ]
    },
    {
     "name": "stderr",
     "output_type": "stream",
     "text": [
      "  0%|          | 0/25 [00:00<?, ?it/s]"
     ]
    },
    {
     "ename": "",
     "evalue": "",
     "output_type": "error",
     "traceback": [
      "\u001b[1;31mThe Kernel crashed while executing code in the current cell or a previous cell. \n",
      "\u001b[1;31mPlease review the code in the cell(s) to identify a possible cause of the failure. \n",
      "\u001b[1;31mClick <a href='https://aka.ms/vscodeJupyterKernelCrash'>here</a> for more info. \n",
      "\u001b[1;31mView Jupyter <a href='command:jupyter.viewOutput'>log</a> for further details."
     ]
    }
   ],
   "source": [
    "import optuna\n",
    "from sklearn.ensemble import RandomForestClassifier\n",
    "from sklearn.model_selection import cross_val_score, StratifiedKFold, train_test_split\n",
    "from sklearn.metrics import make_scorer, f1_score\n",
    "import numpy as np\n",
    "import psutil\n",
    "import os\n",
    "\n",
    "# ==== System Info ====\n",
    "NUM_CORES = os.cpu_count()\n",
    "RAM_GB = psutil.virtual_memory().available / (1024 ** 3)\n",
    "print(f\"🧠 CPU Cores: {NUM_CORES}\")\n",
    "print(f\"💾 Available RAM: {RAM_GB:.2f} GB\")\n",
    "\n",
    "# ==== Subsample the data ====\n",
    "X_small, _, y_small, _ = train_test_split(X, y, train_size=50000, stratify=y, random_state=42)\n",
    "\n",
    "# ==== Define objective ====\n",
    "def objective(trial):\n",
    "    n_estimators = trial.suggest_int(\"n_estimators\", 50, 100)\n",
    "    max_depth = trial.suggest_int(\"max_depth\", 10, 30)\n",
    "    max_features = trial.suggest_categorical(\"max_features\", [\"sqrt\", \"log2\"])\n",
    "\n",
    "    clf = RandomForestClassifier(\n",
    "        n_estimators=n_estimators,\n",
    "        max_depth=max_depth,\n",
    "        max_features=max_features,\n",
    "        n_jobs=1,  # No parallel inside trial\n",
    "        random_state=42,\n",
    "    )\n",
    "\n",
    "    cv = StratifiedKFold(n_splits=2, shuffle=True, random_state=42)\n",
    "    score = cross_val_score(\n",
    "        clf, X_small, y_small, \n",
    "        scoring=make_scorer(f1_score, average=\"weighted\"),\n",
    "        cv=cv,\n",
    "        n_jobs=1  # keep memory usage low\n",
    "    ).mean()\n",
    "    \n",
    "    return score\n",
    "\n",
    "# ==== Run study ====\n",
    "study = optuna.create_study(direction=\"maximize\")\n",
    "study.optimize(objective, n_trials=25)\n",
    "\n",
    "# ==== Results ====\n",
    "print(f\"✅ Best Trial: {study.best_trial.number}\")\n",
    "print(f\"🎯 Best Params: {study.best_trial.params}\")\n",
    "print(f\"⭐ Best Weighted F1 Score: {study.best_trial.value:.4f}\")"
   ]
  },
  {
   "cell_type": "code",
   "execution_count": 8,
   "id": "fc0af830",
   "metadata": {},
   "outputs": [
    {
     "name": "stdout",
     "output_type": "stream",
     "text": [
      "🧹 RAM cleared. Available RAM: 21.66 GB\n"
     ]
    }
   ],
   "source": [
    "import gc\n",
    "import psutil\n",
    "import os\n",
    "\n",
    "# Run garbage collection\n",
    "gc.collect()\n",
    "\n",
    "# Print available RAM after cleanup\n",
    "RAM_GB = psutil.virtual_memory().available / (1024 ** 3)\n",
    "print(f\"🧹 RAM cleared. Available RAM: {RAM_GB:.2f} GB\")"
   ]
  },
  {
   "cell_type": "code",
   "execution_count": 7,
   "id": "3332a498",
   "metadata": {},
   "outputs": [
    {
     "name": "stdout",
     "output_type": "stream",
     "text": [
      "✅ Cleared all variables, calling garbage collector...\n",
      "🧨 Killed all child processes.\n"
     ]
    },
    {
     "data": {
      "text/plain": [
       "0"
      ]
     },
     "execution_count": 7,
     "metadata": {},
     "output_type": "execute_result"
    }
   ],
   "source": [
    "import gc\n",
    "import sys\n",
    "import os\n",
    "import psutil\n",
    "\n",
    "# Clean up everything\n",
    "def clear_all():\n",
    "    globals_ = list(globals().keys())\n",
    "    for name in globals_:\n",
    "        if not name.startswith(\"_\") and name not in ['clear_all', 'os', 'gc', 'sys', 'psutil']:\n",
    "            del globals()[name]\n",
    "    gc.collect()\n",
    "\n",
    "clear_all()\n",
    "print(\"✅ Cleared all variables, calling garbage collector...\")\n",
    "\n",
    "# Extra: kill hanging background processes (be very careful)\n",
    "def kill_children():\n",
    "    current = psutil.Process()\n",
    "    children = current.children(recursive=True)\n",
    "    for child in children:\n",
    "        try:\n",
    "            child.kill()\n",
    "        except Exception as e:\n",
    "            print(f\"⚠️ Couldn't kill {child}: {e}\")\n",
    "    print(\"🧨 Killed all child processes.\")\n",
    "\n",
    "kill_children()\n",
    "gc.collect()"
   ]
  },
  {
   "cell_type": "markdown",
   "id": "dde75518",
   "metadata": {},
   "source": [
    "Testing Model Performance"
   ]
  },
  {
   "cell_type": "code",
   "execution_count": 13,
   "id": "9bf11cec",
   "metadata": {},
   "outputs": [
    {
     "name": "stdout",
     "output_type": "stream",
     "text": [
      "🧠 Using 8 CPU cores\n",
      "🗂️  Available RAM: 27.52 GB\n"
     ]
    },
    {
     "data": {
      "text/plain": [
       "0"
      ]
     },
     "execution_count": 13,
     "metadata": {},
     "output_type": "execute_result"
    }
   ],
   "source": [
    "import numpy as np\n",
    "from sklearn.ensemble import RandomForestClassifier\n",
    "from sklearn.metrics import classification_report\n",
    "import psutil\n",
    "import os\n",
    "import joblib\n",
    "import gc\n",
    "from tqdm import tqdm\n",
    "\n",
    "# === System-aware config ===\n",
    "NUM_CORES = os.cpu_count()\n",
    "RAM_GB = psutil.virtual_memory().available / (1024 ** 3)\n",
    "\n",
    "print(f\"🧠 Using {NUM_CORES} CPU cores\")\n",
    "print(f\"🗂️  Available RAM: {RAM_GB:.2f} GB\")\n",
    "\n",
    "# === Assume df_combined_shuffled is loaded ===\n",
    "df = df_combined_shuffled\n",
    "\n",
    "# === Convert to arrays ===\n",
    "X = np.stack(df[\"embedding\"].values).astype(np.float32)\n",
    "y = df[\"label\"].to_numpy(dtype=np.uint8)\n",
    "\n",
    "del df\n",
    "gc.collect()\n",
    "\n",
    "# === Split data ===\n",
    "split_idx = int(0.8 * len(X))\n",
    "X_train, y_train = X[:split_idx], y[:split_idx]\n",
    "X_test, y_test = X[split_idx:], y[split_idx:]\n",
    "\n",
    "del X, y\n",
    "gc.collect()"
   ]
  },
  {
   "cell_type": "code",
   "execution_count": 14,
   "id": "b983c968",
   "metadata": {},
   "outputs": [
    {
     "name": "stderr",
     "output_type": "stream",
     "text": [
      "[Parallel(n_jobs=7)]: Using backend ThreadingBackend with 7 concurrent workers.\n",
      "[Parallel(n_jobs=7)]: Done  36 tasks      | elapsed:    1.1s\n",
      "[Parallel(n_jobs=7)]: Done 161 out of 161 | elapsed:    4.8s finished\n"
     ]
    },
    {
     "name": "stdout",
     "output_type": "stream",
     "text": [
      "Classification Report:\n",
      "\n",
      "              precision    recall  f1-score   support\n",
      "\n",
      "           0       0.97      0.98      0.97    110150\n",
      "           1       0.98      0.97      0.98    120576\n",
      "\n",
      "    accuracy                           0.98    230726\n",
      "   macro avg       0.98      0.98      0.98    230726\n",
      "weighted avg       0.98      0.98      0.98    230726\n",
      "\n"
     ]
    }
   ],
   "source": [
    "import joblib\n",
    "import numpy as np\n",
    "from sklearn.metrics import classification_report\n",
    "\n",
    "# ─── Load the model ───\n",
    "model_path = \"/home/azureuser/dna_sequencing/model_training/forw_final_randomforest_optuna_model.joblib\"\n",
    "model = joblib.load(model_path)\n",
    "\n",
    "# # ─── Load your test data ───\n",
    "# # Replace with actual loading if stored in .npy or other format\n",
    "# X_test = np.load(\"X_test_forward.npy\")  # Embeddings for forward test sequences\n",
    "# y_test = np.load(\"y_test_forward.npy\")  # Ground truth labels\n",
    "\n",
    "# ─── Predict and evaluate ───\n",
    "y_pred = model.predict(X_test)\n",
    "report = classification_report(y_test, y_pred, digits=2)\n",
    "\n",
    "print(\"Classification Report:\\n\")\n",
    "print(report)"
   ]
  },
  {
   "cell_type": "code",
   "execution_count": null,
   "id": "c2063ee7",
   "metadata": {},
   "outputs": [
    {
     "name": "stdout",
     "output_type": "stream",
     "text": [
      "Classification Report:\n",
      "\n",
      "              precision    recall  f1-score   support\n",
      "\n",
      "           0       0.63      0.59      0.61    110150\n",
      "           1       0.65      0.68      0.67    120576\n",
      "\n",
      "    accuracy                           0.64    230726\n",
      "   macro avg       0.64      0.64      0.64    230726\n",
      "weighted avg       0.64      0.64      0.64    230726\n",
      "\n"
     ]
    },
    {
     "ename": "",
     "evalue": "",
     "output_type": "error",
     "traceback": [
      "\u001b[1;31mThe Kernel crashed while executing code in the current cell or a previous cell. \n",
      "\u001b[1;31mPlease review the code in the cell(s) to identify a possible cause of the failure. \n",
      "\u001b[1;31mClick <a href='https://aka.ms/vscodeJupyterKernelCrash'>here</a> for more info. \n",
      "\u001b[1;31mView Jupyter <a href='command:jupyter.viewOutput'>log</a> for further details."
     ]
    }
   ],
   "source": [
    "import joblib\n",
    "import numpy as np\n",
    "from sklearn.metrics import classification_report\n",
    "\n",
    "# ─── Load the model ───\n",
    "model_path = \"/home/azureuser/dna_sequencing/model_training/random_forest_dnabert_model.joblib\"\n",
    "model = joblib.load(model_path)\n",
    "\n",
    "# # ─── Load your test data ───\n",
    "# # Replace with actual loading if stored in .npy or other format\n",
    "# X_test = np.load(\"X_test_forward.npy\")  # Embeddings for forward test sequences\n",
    "# y_test = np.load(\"y_test_forward.npy\")  # Ground truth labels\n",
    "\n",
    "# ─── Predict and evaluate ───\n",
    "# ─── Predict and evaluate ───\n",
    "y_pred = model.predict(X_test)\n",
    "report = classification_report(y_test, y_pred, digits=2)\n",
    "\n",
    "print(\"Classification Report:\\n\")\n",
    "print(report)"
   ]
  }
 ],
 "metadata": {
  "kernelspec": {
   "display_name": "dna_sequence",
   "language": "python",
   "name": "python3"
  },
  "language_info": {
   "codemirror_mode": {
    "name": "ipython",
    "version": 3
   },
   "file_extension": ".py",
   "mimetype": "text/x-python",
   "name": "python",
   "nbconvert_exporter": "python",
   "pygments_lexer": "ipython3",
   "version": "3.9.21"
  }
 },
 "nbformat": 4,
 "nbformat_minor": 5
}
