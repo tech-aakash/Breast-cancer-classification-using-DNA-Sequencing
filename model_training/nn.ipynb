{
 "cells": [
  {
   "cell_type": "code",
   "execution_count": 1,
   "id": "65117884",
   "metadata": {},
   "outputs": [],
   "source": [
    "import numpy as np\n",
    "import pandas as pd\n",
    "\n",
    "# === Load embeddings and IDs ===\n",
    "\n",
    "# Cancerous\n",
    "emb_cancer = np.load(\"/home/azureuser/dna_sequencing/model_training/embeddings_backw_can.npy\")\n",
    "ids_cancer = pd.read_csv(\"/home/azureuser/dna_sequencing/model_training/backw_can_embeddings_ids.csv\")[\"id\"]\n",
    "labels_cancer = np.ones(len(ids_cancer), dtype=int)  # label 1\n",
    "\n",
    "# Non-cancerous\n",
    "emb_noncan = np.load(\"/home/azureuser/dna_sequencing/model_training/embeddings_backw_noncan.npy\")\n",
    "ids_noncan = pd.read_csv(\"/home/azureuser/dna_sequencing/model_training/backw_noncan_embeddings_ids.csv\")[\"id\"]\n",
    "labels_noncan = np.zeros(len(ids_noncan), dtype=int)  # label 0\n",
    "\n",
    "# === Combine all ===\n",
    "# Stack embeddings\n",
    "X = np.vstack([emb_cancer, emb_noncan])\n",
    "\n",
    "# Combine IDs and labels\n",
    "all_ids = pd.concat([ids_cancer, ids_noncan], ignore_index=True)\n",
    "all_labels = np.concatenate([labels_cancer, labels_noncan])\n",
    "\n",
    "# === Final DataFrame ===\n",
    "df_combined = pd.DataFrame({\n",
    "    \"id\": all_ids,\n",
    "    \"label\": all_labels,\n",
    "    \"embedding\": list(X)  # list of 768-d vectors per row\n",
    "})\n",
    "\n",
    "# ✅ Preview\n",
    "# print(df_combined.head())\n",
    "# print(df_combined.shape)\n",
    "\n",
    "\n",
    "# Shuffle df\n",
    "df_combined_shuffled = df_combined.sample(frac=1, random_state=42).reset_index(drop=True)\n",
    "# df_combined_shuffled.head()"
   ]
  },
  {
   "cell_type": "code",
   "execution_count": 2,
   "id": "cd2ee869",
   "metadata": {},
   "outputs": [
    {
     "name": "stderr",
     "output_type": "stream",
     "text": [
      "2025-06-15 12:00:24.889977: I tensorflow/core/platform/cpu_feature_guard.cc:210] This TensorFlow binary is optimized to use available CPU instructions in performance-critical operations.\n",
      "To enable the following instructions: AVX2 FMA, in other operations, rebuild TensorFlow with the appropriate compiler flags.\n",
      "2025-06-15 12:00:26.172728: W tensorflow/compiler/tf2tensorrt/utils/py_utils.cc:38] TF-TRT Warning: Could not find TensorRT\n",
      "2025-06-15 12:02:37.305490: W tensorflow/core/common_runtime/gpu/gpu_device.cc:2251] Cannot dlopen some GPU libraries. Please make sure the missing libraries mentioned above are installed properly if you would like to use GPU. Follow the guide at https://www.tensorflow.org/install/gpu for how to download and setup the required libraries for your platform.\n",
      "Skipping registering GPU devices...\n"
     ]
    },
    {
     "name": "stdout",
     "output_type": "stream",
     "text": [
      "\u001b[1m7196/7196\u001b[0m \u001b[32m━━━━━━━━━━━━━━━━━━━━\u001b[0m\u001b[37m\u001b[0m \u001b[1m148s\u001b[0m 20ms/step\n",
      "📊 Classification Report:\n",
      "              precision    recall  f1-score   support\n",
      "\n",
      "           0       0.89      0.84      0.86    109641\n",
      "           1       0.86      0.90      0.88    120612\n",
      "\n",
      "    accuracy                           0.87    230253\n",
      "   macro avg       0.88      0.87      0.87    230253\n",
      "weighted avg       0.87      0.87      0.87    230253\n",
      "\n",
      "📈 AUC-ROC: 0.9457\n"
     ]
    }
   ],
   "source": [
    "import numpy as np\n",
    "import pandas as pd\n",
    "from sklearn.model_selection import train_test_split\n",
    "from sklearn.metrics import classification_report, roc_auc_score\n",
    "import tensorflow as tf\n",
    "\n",
    "# === Load embeddings and labels ===\n",
    "emb_cancer = np.load(\"/home/azureuser/dna_sequencing/model_training/embeddings_backw_can.npy\")\n",
    "ids_cancer = pd.read_csv(\"/home/azureuser/dna_sequencing/model_training/backw_can_embeddings_ids.csv\")[\"id\"]\n",
    "labels_cancer = np.ones(len(ids_cancer), dtype=int)\n",
    "\n",
    "emb_noncan = np.load(\"/home/azureuser/dna_sequencing/model_training/embeddings_backw_noncan.npy\")\n",
    "ids_noncan = pd.read_csv(\"/home/azureuser/dna_sequencing/model_training/backw_noncan_embeddings_ids.csv\")[\"id\"]\n",
    "labels_noncan = np.zeros(len(ids_noncan), dtype=int)\n",
    "\n",
    "X = np.vstack([emb_cancer, emb_noncan]).astype(np.float32)\n",
    "y = np.concatenate([labels_cancer, labels_noncan])\n",
    "ids = pd.concat([ids_cancer, ids_noncan], ignore_index=True)\n",
    "\n",
    "# === Shuffle and Split ===\n",
    "df = pd.DataFrame({\"id\": ids, \"label\": y, \"embedding\": list(X)})\n",
    "df_shuffled = df.sample(frac=1, random_state=42).reset_index(drop=True)\n",
    "\n",
    "X_all = np.stack(df_shuffled[\"embedding\"].values).astype(np.float32)\n",
    "y_all = df_shuffled[\"label\"].values.astype(np.uint8)\n",
    "\n",
    "# Match the original validation split\n",
    "_, X_val, _, y_val = train_test_split(\n",
    "    X_all, y_all, test_size=0.2, stratify=y_all, random_state=42\n",
    ")\n",
    "\n",
    "# === Load best model ===\n",
    "model = tf.keras.models.load_model(\"/home/azureuser/dna_sequencing/model_training/best_model.keras\")\n",
    "\n",
    "# === Predict and Evaluate ===\n",
    "y_pred_probs = model.predict(X_val).ravel()\n",
    "y_pred = (y_pred_probs > 0.5).astype(int)\n",
    "\n",
    "print(\"📊 Classification Report:\")\n",
    "print(classification_report(y_val, y_pred))\n",
    "print(f\"📈 AUC-ROC: {roc_auc_score(y_val, y_pred_probs):.4f}\")\n"
   ]
  }
 ],
 "metadata": {
  "kernelspec": {
   "display_name": "dna_sequence",
   "language": "python",
   "name": "python3"
  },
  "language_info": {
   "codemirror_mode": {
    "name": "ipython",
    "version": 3
   },
   "file_extension": ".py",
   "mimetype": "text/x-python",
   "name": "python",
   "nbconvert_exporter": "python",
   "pygments_lexer": "ipython3",
   "version": "3.9.21"
  }
 },
 "nbformat": 4,
 "nbformat_minor": 5
}
