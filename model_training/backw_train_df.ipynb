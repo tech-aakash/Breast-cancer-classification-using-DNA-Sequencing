{
 "cells": [
  {
   "cell_type": "markdown",
   "id": "167240b1",
   "metadata": {},
   "source": [
    "# make a fresh dataframe with id, embedding, class"
   ]
  },
  {
   "cell_type": "markdown",
   "id": "a4090087",
   "metadata": {},
   "source": [
    "#### Importing cancerous parquet file and adding 1 as the class label to all of them"
   ]
  },
  {
   "cell_type": "code",
   "execution_count": 1,
   "id": "c80d2ca1",
   "metadata": {},
   "outputs": [],
   "source": [
    "import pandas as pd"
   ]
  },
  {
   "cell_type": "code",
   "execution_count": 2,
   "id": "a73d0ba2",
   "metadata": {},
   "outputs": [],
   "source": [
    "import pandas as pd\n",
    "import numpy as np\n",
    "\n",
    "# Load DataFrame\n",
    "df = pd.read_parquet(\"/home/azureuser/dna_sequencing/Anushka/sampled_embeddings/embeddings_backw_can.parquet\")\n",
    "\n",
    "# Prepare data\n",
    "embedding_cols = [col for col in df.columns if col.startswith(\"emb_\")]\n",
    "embeddings = df[embedding_cols].values.astype(np.float32)  # (n_samples, 768)\n",
    "ids = df[\"id\"].values  # optional: save other columns too"
   ]
  },
  {
   "cell_type": "code",
   "execution_count": 3,
   "id": "9d52c255",
   "metadata": {},
   "outputs": [],
   "source": [
    "# Save embeddings as .npy (very fast and efficient)\n",
    "np.save(\"/home/azureuser/dna_sequencing/model_training/embeddings_backw_can.npy\", embeddings)\n",
    "\n",
    "# Save ids to CSV\n",
    "pd.DataFrame({\"id\": ids}).to_csv(\"/home/azureuser/dna_sequencing/model_training/backw_can_embeddings_ids.csv\", index=False)"
   ]
  },
  {
   "cell_type": "code",
   "execution_count": 4,
   "id": "ddfb9dcd",
   "metadata": {},
   "outputs": [],
   "source": [
    "import pandas as pd\n",
    "import numpy as np\n",
    "\n",
    "# Load DataFrame\n",
    "df = pd.read_parquet(\"/home/azureuser/dna_sequencing/Anushka/sampled_embeddings/embeddings_backw_noncan.parquet\")\n",
    "\n",
    "# Prepare data\n",
    "embedding_cols = [col for col in df.columns if col.startswith(\"emb_\")]\n",
    "embeddings = df[embedding_cols].values.astype(np.float32)  # (n_samples, 768)\n",
    "ids = df[\"id\"].values  # optional: save other columns too"
   ]
  },
  {
   "cell_type": "code",
   "execution_count": 5,
   "id": "103491b4",
   "metadata": {},
   "outputs": [],
   "source": [
    "# Save embeddings as .npy (very fast and efficient)\n",
    "np.save(\"/home/azureuser/dna_sequencing/model_training/embeddings_backw_noncan.npy\", embeddings)\n",
    "\n",
    "# Save ids to CSV\n",
    "pd.DataFrame({\"id\": ids}).to_csv(\"/home/azureuser/dna_sequencing/model_training/backw_noncan_embeddings_ids.csv\", index=False)"
   ]
  },
  {
   "cell_type": "code",
   "execution_count": 1,
   "id": "49a7e819",
   "metadata": {},
   "outputs": [
    {
     "name": "stdout",
     "output_type": "stream",
     "text": [
      "              id  label                                          embedding\n",
      "0   SRR5177930.6      1  [-0.472982, 0.902241, -0.68760836, -1.0110122,...\n",
      "1   SRR5177930.9      1  [-0.14832692, 0.1271801, -0.08398379, -1.39160...\n",
      "2  SRR5177930.11      1  [0.12253284, 1.1420611, 1.2350746, -1.3126705,...\n",
      "3  SRR5177930.16      1  [-0.28678215, 3.929915, 0.13052358, -0.0365948...\n",
      "4  SRR5177930.20      1  [-0.93153316, 0.63785285, -0.8242705, -0.75851...\n",
      "(1151263, 3)\n"
     ]
    }
   ],
   "source": [
    "import numpy as np\n",
    "import pandas as pd\n",
    "\n",
    "# === Load embeddings and IDs ===\n",
    "\n",
    "# Cancerous\n",
    "emb_cancer = np.load(\"/home/azureuser/dna_sequencing/model_training/embeddings_backw_can.npy\")\n",
    "ids_cancer = pd.read_csv(\"/home/azureuser/dna_sequencing/model_training/backw_can_embeddings_ids.csv\")[\"id\"]\n",
    "labels_cancer = np.ones(len(ids_cancer), dtype=int)  # label 1\n",
    "\n",
    "# Non-cancerous\n",
    "emb_noncan = np.load(\"/home/azureuser/dna_sequencing/model_training/embeddings_backw_noncan.npy\")\n",
    "ids_noncan = pd.read_csv(\"/home/azureuser/dna_sequencing/model_training/backw_noncan_embeddings_ids.csv\")[\"id\"]\n",
    "labels_noncan = np.zeros(len(ids_noncan), dtype=int)  # label 0\n",
    "\n",
    "# === Combine all ===\n",
    "# Stack embeddings\n",
    "X = np.vstack([emb_cancer, emb_noncan])\n",
    "\n",
    "# Combine IDs and labels\n",
    "all_ids = pd.concat([ids_cancer, ids_noncan], ignore_index=True)\n",
    "all_labels = np.concatenate([labels_cancer, labels_noncan])\n",
    "\n",
    "# === Final DataFrame ===\n",
    "df_combined = pd.DataFrame({\n",
    "    \"id\": all_ids,\n",
    "    \"label\": all_labels,\n",
    "    \"embedding\": list(X)  # list of 768-d vectors per row\n",
    "})\n",
    "\n",
    "# ✅ Preview\n",
    "print(df_combined.head())\n",
    "print(df_combined.shape)"
   ]
  },
  {
   "cell_type": "code",
   "execution_count": 2,
   "id": "1ce7d00e",
   "metadata": {},
   "outputs": [
    {
     "data": {
      "text/html": [
       "<div>\n",
       "<style scoped>\n",
       "    .dataframe tbody tr th:only-of-type {\n",
       "        vertical-align: middle;\n",
       "    }\n",
       "\n",
       "    .dataframe tbody tr th {\n",
       "        vertical-align: top;\n",
       "    }\n",
       "\n",
       "    .dataframe thead th {\n",
       "        text-align: right;\n",
       "    }\n",
       "</style>\n",
       "<table border=\"1\" class=\"dataframe\">\n",
       "  <thead>\n",
       "    <tr style=\"text-align: right;\">\n",
       "      <th></th>\n",
       "      <th>id</th>\n",
       "      <th>label</th>\n",
       "      <th>embedding</th>\n",
       "    </tr>\n",
       "  </thead>\n",
       "  <tbody>\n",
       "    <tr>\n",
       "      <th>0</th>\n",
       "      <td>SRR6269879.1807337</td>\n",
       "      <td>0</td>\n",
       "      <td>[-1.0272862, -0.36884394, -1.2709365, -0.75294...</td>\n",
       "    </tr>\n",
       "    <tr>\n",
       "      <th>1</th>\n",
       "      <td>SRR5177930.18806323</td>\n",
       "      <td>1</td>\n",
       "      <td>[-0.26374084, 1.7980592, 1.2168257, -0.0639829...</td>\n",
       "    </tr>\n",
       "    <tr>\n",
       "      <th>2</th>\n",
       "      <td>SRR5177930.24104586</td>\n",
       "      <td>1</td>\n",
       "      <td>[-0.43246013, 0.097811565, -0.26134557, 0.1590...</td>\n",
       "    </tr>\n",
       "    <tr>\n",
       "      <th>3</th>\n",
       "      <td>SRR5177930.52104121</td>\n",
       "      <td>1</td>\n",
       "      <td>[0.20100069, 0.0065315273, 0.087734945, -0.161...</td>\n",
       "    </tr>\n",
       "    <tr>\n",
       "      <th>4</th>\n",
       "      <td>SRR6269879.48804038</td>\n",
       "      <td>0</td>\n",
       "      <td>[-1.1723969, 0.7453982, 0.5968736, -2.174962, ...</td>\n",
       "    </tr>\n",
       "  </tbody>\n",
       "</table>\n",
       "</div>"
      ],
      "text/plain": [
       "                    id  label  \\\n",
       "0   SRR6269879.1807337      0   \n",
       "1  SRR5177930.18806323      1   \n",
       "2  SRR5177930.24104586      1   \n",
       "3  SRR5177930.52104121      1   \n",
       "4  SRR6269879.48804038      0   \n",
       "\n",
       "                                           embedding  \n",
       "0  [-1.0272862, -0.36884394, -1.2709365, -0.75294...  \n",
       "1  [-0.26374084, 1.7980592, 1.2168257, -0.0639829...  \n",
       "2  [-0.43246013, 0.097811565, -0.26134557, 0.1590...  \n",
       "3  [0.20100069, 0.0065315273, 0.087734945, -0.161...  \n",
       "4  [-1.1723969, 0.7453982, 0.5968736, -2.174962, ...  "
      ]
     },
     "execution_count": 2,
     "metadata": {},
     "output_type": "execute_result"
    }
   ],
   "source": [
    "# Shuffle the rows of df_combined randomly\n",
    "df_combined_shuffled = df_combined.sample(frac=1, random_state=42).reset_index(drop=True)\n",
    "df_combined_shuffled.head()"
   ]
  },
  {
   "cell_type": "code",
   "execution_count": 9,
   "id": "53ef159c",
   "metadata": {},
   "outputs": [
    {
     "data": {
      "text/plain": [
       "label\n",
       "1    603058\n",
       "0    548205\n",
       "Name: count, dtype: int64"
      ]
     },
     "execution_count": 9,
     "metadata": {},
     "output_type": "execute_result"
    }
   ],
   "source": [
    "df_combined_shuffled['label'].value_counts()"
   ]
  },
  {
   "cell_type": "code",
   "execution_count": null,
   "id": "03b3b956",
   "metadata": {},
   "outputs": [
    {
     "name": "stdout",
     "output_type": "stream",
     "text": [
      "🧠 Using 8 CPU cores\n",
      "🗂️  Available RAM: 24.67 GB\n",
      "🚀 Training RandomForest with progress bar:\n"
     ]
    },
    {
     "name": "stderr",
     "output_type": "stream",
     "text": [
      "🌲 Trees trained: 100%|██████████| 200/200 [3:33:50<00:00, 64.15s/it]  \n"
     ]
    },
    {
     "name": "stdout",
     "output_type": "stream",
     "text": [
      "💾 Model saved to: /home/azureuser/dna_sequencing/model_training/backw_random_forest_dnabert_model.joblib\n",
      "\n",
      "📊 Classification Report:\n",
      "              precision    recall  f1-score   support\n",
      "\n",
      "           0       0.81      0.85      0.83    109731\n",
      "           1       0.86      0.82      0.84    120522\n",
      "\n",
      "    accuracy                           0.84    230253\n",
      "   macro avg       0.84      0.84      0.84    230253\n",
      "weighted avg       0.84      0.84      0.84    230253\n",
      "\n"
     ]
    },
    {
     "data": {
      "text/plain": [
       "52"
      ]
     },
     "execution_count": 12,
     "metadata": {},
     "output_type": "execute_result"
    },
    {
     "ename": "",
     "evalue": "",
     "output_type": "error",
     "traceback": [
      "\u001b[1;31mThe Kernel crashed while executing code in the current cell or a previous cell. \n",
      "\u001b[1;31mPlease review the code in the cell(s) to identify a possible cause of the failure. \n",
      "\u001b[1;31mClick <a href='https://aka.ms/vscodeJupyterKernelCrash'>here</a> for more info. \n",
      "\u001b[1;31mView Jupyter <a href='command:jupyter.viewOutput'>log</a> for further details."
     ]
    }
   ],
   "source": [
    "import numpy as np\n",
    "from sklearn.ensemble import RandomForestClassifier\n",
    "from sklearn.metrics import classification_report\n",
    "import psutil\n",
    "import os\n",
    "import joblib\n",
    "import gc\n",
    "from tqdm import tqdm\n",
    "\n",
    "# === System-aware config ===\n",
    "NUM_CORES = os.cpu_count()\n",
    "RAM_GB = psutil.virtual_memory().available / (1024 ** 3)\n",
    "\n",
    "print(f\"🧠 Using {NUM_CORES} CPU cores\")\n",
    "print(f\"🗂️  Available RAM: {RAM_GB:.2f} GB\")\n",
    "\n",
    "# === Assume df_combined_shuffled is loaded ===\n",
    "df = df_combined_shuffled\n",
    "\n",
    "# === Convert to arrays ===\n",
    "X = np.stack(df[\"embedding\"].values).astype(np.float32)\n",
    "y = df[\"label\"].to_numpy(dtype=np.uint8)\n",
    "\n",
    "del df\n",
    "gc.collect()\n",
    "\n",
    "# === Split data ===\n",
    "split_idx = int(0.8 * len(X))\n",
    "X_train, y_train = X[:split_idx], y[:split_idx]\n",
    "X_test, y_test = X[split_idx:], y[split_idx:]\n",
    "\n",
    "del X, y\n",
    "gc.collect()\n",
    "\n",
    "# === Adaptive hyperparams ===\n",
    "if RAM_GB > 16:\n",
    "    total_trees = 200\n",
    "    max_depth = None\n",
    "elif RAM_GB > 8:\n",
    "    total_trees = 100\n",
    "    max_depth = 30\n",
    "else:\n",
    "    total_trees = 50\n",
    "    max_depth = 20\n",
    "\n",
    "# === Progressive training with warm_start ===\n",
    "clf = RandomForestClassifier(\n",
    "    n_estimators=1,\n",
    "    warm_start=True,\n",
    "    max_depth=max_depth,\n",
    "    n_jobs=max(1, NUM_CORES - 1),\n",
    "    random_state=42\n",
    ")\n",
    "\n",
    "print(\"🚀 Training RandomForest with progress bar:\")\n",
    "for i in tqdm(range(1, total_trees + 1), desc=\"🌲 Trees trained\"):\n",
    "    clf.set_params(n_estimators=i)\n",
    "    clf.fit(X_train, y_train)\n",
    "\n",
    "# === Save model ===\n",
    "MODEL_PATH = \"/home/azureuser/dna_sequencing/model_training/backw_random_forest_dnabert_model.joblib\"\n",
    "joblib.dump(clf, MODEL_PATH)\n",
    "print(f\"💾 Model saved to: {MODEL_PATH}\")\n",
    "\n",
    "# === Evaluate ===\n",
    "y_pred = clf.predict(X_test)\n",
    "print(\"\\n📊 Classification Report:\")\n",
    "print(classification_report(y_test, y_pred))\n",
    "\n",
    "# === Cleanup ===\n",
    "del X_train, y_train, X_test, y_test\n",
    "gc.collect()"
   ]
  },
  {
   "cell_type": "markdown",
   "id": "8ec06624",
   "metadata": {},
   "source": [
    "### With hyperparameter tuning"
   ]
  },
  {
   "cell_type": "code",
   "execution_count": 3,
   "id": "989fd716",
   "metadata": {},
   "outputs": [
    {
     "name": "stderr",
     "output_type": "stream",
     "text": [
      "/home/azureuser/anaconda3/envs/dna_sequence/lib/python3.9/site-packages/tqdm/auto.py:21: TqdmWarning: IProgress not found. Please update jupyter and ipywidgets. See https://ipywidgets.readthedocs.io/en/stable/user_install.html\n",
      "  from .autonotebook import tqdm as notebook_tqdm\n"
     ]
    },
    {
     "name": "stdout",
     "output_type": "stream",
     "text": [
      "🧠 CPU Cores: 8\n",
      "💾 Available RAM: 9.38 GB\n"
     ]
    },
    {
     "name": "stderr",
     "output_type": "stream",
     "text": [
      "[I 2025-06-15 17:32:59,442] A new study created in memory with name: no-name-e0af7629-9e36-4745-8aa0-a1a8e9771f62\n",
      "Best trial: 0. Best value: 0.833064:   4%|▍         | 1/25 [25:46<10:18:44, 1546.84s/it]"
     ]
    },
    {
     "name": "stdout",
     "output_type": "stream",
     "text": [
      "[I 2025-06-15 17:58:46,285] Trial 0 finished with value: 0.8330642638846015 and parameters: {'n_estimators': 137, 'max_depth': 50, 'max_features': 'sqrt'}. Best is trial 0 with value: 0.8330642638846015.\n"
     ]
    },
    {
     "name": "stderr",
     "output_type": "stream",
     "text": [
      "Best trial: 0. Best value: 0.833064:   8%|▊         | 2/25 [30:13<5:04:11, 793.53s/it]  "
     ]
    },
    {
     "name": "stdout",
     "output_type": "stream",
     "text": [
      "[I 2025-06-15 18:03:12,491] Trial 1 finished with value: 0.8267543307611193 and parameters: {'n_estimators': 77, 'max_depth': 49, 'max_features': 'log2'}. Best is trial 0 with value: 0.8330642638846015.\n"
     ]
    },
    {
     "name": "stderr",
     "output_type": "stream",
     "text": [
      "Best trial: 0. Best value: 0.833064:  12%|█▏        | 3/25 [59:17<7:30:05, 1227.53s/it]"
     ]
    },
    {
     "name": "stdout",
     "output_type": "stream",
     "text": [
      "[I 2025-06-15 18:32:16,485] Trial 2 finished with value: 0.8326223450809356 and parameters: {'n_estimators': 184, 'max_depth': 26, 'max_features': 'sqrt'}. Best is trial 0 with value: 0.8330642638846015.\n"
     ]
    },
    {
     "name": "stderr",
     "output_type": "stream",
     "text": [
      "Best trial: 0. Best value: 0.833064:  16%|█▌        | 4/25 [1:05:17<5:09:51, 885.33s/it] "
     ]
    },
    {
     "name": "stdout",
     "output_type": "stream",
     "text": [
      "[I 2025-06-15 18:38:17,223] Trial 3 finished with value: 0.8279378396315805 and parameters: {'n_estimators': 104, 'max_depth': 48, 'max_features': 'log2'}. Best is trial 0 with value: 0.8330642638846015.\n"
     ]
    },
    {
     "name": "stderr",
     "output_type": "stream",
     "text": [
      "Best trial: 0. Best value: 0.833064:  20%|██        | 5/25 [1:19:49<4:53:30, 880.50s/it]"
     ]
    },
    {
     "name": "stdout",
     "output_type": "stream",
     "text": [
      "[I 2025-06-15 18:52:49,160] Trial 4 finished with value: 0.810863772488977 and parameters: {'n_estimators': 129, 'max_depth': 13, 'max_features': 'sqrt'}. Best is trial 0 with value: 0.8330642638846015.\n"
     ]
    },
    {
     "name": "stderr",
     "output_type": "stream",
     "text": [
      "Best trial: 0. Best value: 0.833064:  24%|██▍       | 6/25 [1:30:39<4:14:00, 802.13s/it]"
     ]
    },
    {
     "name": "stdout",
     "output_type": "stream",
     "text": [
      "[I 2025-06-15 19:03:39,161] Trial 5 finished with value: 0.802145347602262 and parameters: {'n_estimators': 104, 'max_depth': 11, 'max_features': 'sqrt'}. Best is trial 0 with value: 0.8330642638846015.\n"
     ]
    },
    {
     "name": "stderr",
     "output_type": "stream",
     "text": [
      "Best trial: 0. Best value: 0.833064:  28%|██▊       | 7/25 [1:33:34<2:59:06, 597.00s/it]"
     ]
    },
    {
     "name": "stdout",
     "output_type": "stream",
     "text": [
      "[I 2025-06-15 19:06:33,843] Trial 6 finished with value: 0.8112663973481642 and parameters: {'n_estimators': 70, 'max_depth': 15, 'max_features': 'log2'}. Best is trial 0 with value: 0.8330642638846015.\n"
     ]
    },
    {
     "name": "stderr",
     "output_type": "stream",
     "text": [
      "Best trial: 0. Best value: 0.833064:  32%|███▏      | 8/25 [1:45:46<3:01:20, 640.01s/it]"
     ]
    },
    {
     "name": "stdout",
     "output_type": "stream",
     "text": [
      "[I 2025-06-15 19:18:45,953] Trial 7 finished with value: 0.8258774775435674 and parameters: {'n_estimators': 86, 'max_depth': 19, 'max_features': 'sqrt'}. Best is trial 0 with value: 0.8330642638846015.\n"
     ]
    },
    {
     "name": "stderr",
     "output_type": "stream",
     "text": [
      "Best trial: 0. Best value: 0.833064:  36%|███▌      | 9/25 [2:02:45<3:22:15, 758.46s/it]"
     ]
    },
    {
     "name": "stdout",
     "output_type": "stream",
     "text": [
      "[I 2025-06-15 19:35:44,861] Trial 8 finished with value: 0.8024117059212099 and parameters: {'n_estimators': 167, 'max_depth': 11, 'max_features': 'sqrt'}. Best is trial 0 with value: 0.8330642638846015.\n"
     ]
    },
    {
     "name": "stderr",
     "output_type": "stream",
     "text": [
      "Best trial: 0. Best value: 0.833064:  40%|████      | 10/25 [2:08:39<2:38:22, 633.52s/it]"
     ]
    },
    {
     "name": "stdout",
     "output_type": "stream",
     "text": [
      "[I 2025-06-15 19:41:38,601] Trial 9 finished with value: 0.8283756080006696 and parameters: {'n_estimators': 100, 'max_depth': 39, 'max_features': 'log2'}. Best is trial 0 with value: 0.8330642638846015.\n"
     ]
    },
    {
     "name": "stderr",
     "output_type": "stream",
     "text": [
      "Best trial: 10. Best value: 0.833129:  44%|████▍     | 11/25 [2:33:09<3:27:35, 889.71s/it]"
     ]
    },
    {
     "name": "stdout",
     "output_type": "stream",
     "text": [
      "[I 2025-06-15 20:06:09,199] Trial 10 finished with value: 0.8331288601783071 and parameters: {'n_estimators': 140, 'max_depth': 37, 'max_features': 'sqrt'}. Best is trial 10 with value: 0.8331288601783071.\n"
     ]
    },
    {
     "name": "stderr",
     "output_type": "stream",
     "text": [
      "Best trial: 11. Best value: 0.833307:  48%|████▊     | 12/25 [3:00:18<4:01:27, 1114.41s/it]"
     ]
    },
    {
     "name": "stdout",
     "output_type": "stream",
     "text": [
      "[I 2025-06-15 20:33:17,560] Trial 11 finished with value: 0.8333070863577194 and parameters: {'n_estimators': 151, 'max_depth': 39, 'max_features': 'sqrt'}. Best is trial 11 with value: 0.8333070863577194.\n"
     ]
    },
    {
     "name": "stderr",
     "output_type": "stream",
     "text": [
      "Best trial: 11. Best value: 0.833307:  52%|█████▏    | 13/25 [3:26:43<4:11:24, 1257.06s/it]"
     ]
    },
    {
     "name": "stdout",
     "output_type": "stream",
     "text": [
      "[I 2025-06-15 20:59:42,862] Trial 12 finished with value: 0.8329504353067942 and parameters: {'n_estimators': 151, 'max_depth': 35, 'max_features': 'sqrt'}. Best is trial 11 with value: 0.8333070863577194.\n"
     ]
    },
    {
     "name": "stderr",
     "output_type": "stream",
     "text": [
      "Best trial: 13. Best value: 0.834254:  56%|█████▌    | 14/25 [4:02:52<4:40:59, 1532.68s/it]"
     ]
    },
    {
     "name": "stdout",
     "output_type": "stream",
     "text": [
      "[I 2025-06-15 21:35:52,431] Trial 13 finished with value: 0.8342537396052184 and parameters: {'n_estimators': 200, 'max_depth': 41, 'max_features': 'sqrt'}. Best is trial 13 with value: 0.8342537396052184.\n"
     ]
    },
    {
     "name": "stderr",
     "output_type": "stream",
     "text": [
      "Best trial: 14. Best value: 0.83431:  60%|██████    | 15/25 [4:38:20<4:45:19, 1711.93s/it] "
     ]
    },
    {
     "name": "stdout",
     "output_type": "stream",
     "text": [
      "[I 2025-06-15 22:11:19,752] Trial 14 finished with value: 0.8343099354596286 and parameters: {'n_estimators': 195, 'max_depth': 42, 'max_features': 'sqrt'}. Best is trial 14 with value: 0.8343099354596286.\n"
     ]
    },
    {
     "name": "stderr",
     "output_type": "stream",
     "text": [
      "Best trial: 15. Best value: 0.834319:  64%|██████▍   | 16/25 [5:13:46<4:35:28, 1836.53s/it]"
     ]
    },
    {
     "name": "stdout",
     "output_type": "stream",
     "text": [
      "[I 2025-06-15 22:46:45,649] Trial 15 finished with value: 0.8343186412921124 and parameters: {'n_estimators': 193, 'max_depth': 43, 'max_features': 'sqrt'}. Best is trial 15 with value: 0.8343186412921124.\n"
     ]
    },
    {
     "name": "stderr",
     "output_type": "stream",
     "text": [
      "Best trial: 15. Best value: 0.834319:  68%|██████▊   | 17/25 [5:46:50<4:10:48, 1881.09s/it]"
     ]
    },
    {
     "name": "stdout",
     "output_type": "stream",
     "text": [
      "[I 2025-06-15 23:19:50,367] Trial 16 finished with value: 0.8333721559511822 and parameters: {'n_estimators': 199, 'max_depth': 30, 'max_features': 'sqrt'}. Best is trial 15 with value: 0.8343186412921124.\n"
     ]
    },
    {
     "name": "stderr",
     "output_type": "stream",
     "text": [
      "Best trial: 15. Best value: 0.834319:  72%|███████▏  | 18/25 [6:18:49<3:40:45, 1892.26s/it]"
     ]
    },
    {
     "name": "stdout",
     "output_type": "stream",
     "text": [
      "[I 2025-06-15 23:51:48,638] Trial 17 finished with value: 0.8336942397899472 and parameters: {'n_estimators': 175, 'max_depth': 44, 'max_features': 'sqrt'}. Best is trial 15 with value: 0.8343186412921124.\n"
     ]
    },
    {
     "name": "stderr",
     "output_type": "stream",
     "text": [
      "Best trial: 15. Best value: 0.834319:  76%|███████▌  | 19/25 [6:28:58<2:30:40, 1506.80s/it]"
     ]
    },
    {
     "name": "stdout",
     "output_type": "stream",
     "text": [
      "[I 2025-06-16 00:01:57,503] Trial 18 finished with value: 0.8291934870808564 and parameters: {'n_estimators': 185, 'max_depth': 32, 'max_features': 'log2'}. Best is trial 15 with value: 0.8343186412921124.\n"
     ]
    },
    {
     "name": "stderr",
     "output_type": "stream",
     "text": [
      "Best trial: 15. Best value: 0.834319:  80%|████████  | 20/25 [6:59:48<2:14:09, 1609.96s/it]"
     ]
    },
    {
     "name": "stdout",
     "output_type": "stream",
     "text": [
      "[I 2025-06-16 00:32:47,871] Trial 19 finished with value: 0.8339714803619228 and parameters: {'n_estimators': 167, 'max_depth': 45, 'max_features': 'sqrt'}. Best is trial 15 with value: 0.8343186412921124.\n"
     ]
    },
    {
     "name": "stderr",
     "output_type": "stream",
     "text": [
      "Best trial: 15. Best value: 0.834319:  84%|████████▍ | 21/25 [7:08:19<1:25:20, 1280.10s/it]"
     ]
    },
    {
     "name": "stdout",
     "output_type": "stream",
     "text": [
      "[I 2025-06-16 00:41:18,906] Trial 20 finished with value: 0.8277500294351772 and parameters: {'n_estimators': 53, 'max_depth': 25, 'max_features': 'sqrt'}. Best is trial 15 with value: 0.8343186412921124.\n"
     ]
    },
    {
     "name": "stderr",
     "output_type": "stream",
     "text": [
      "Best trial: 21. Best value: 0.834327:  88%|████████▊ | 22/25 [7:45:41<1:18:26, 1568.68s/it]"
     ]
    },
    {
     "name": "stdout",
     "output_type": "stream",
     "text": [
      "[I 2025-06-16 01:18:40,566] Trial 21 finished with value: 0.8343273387983957 and parameters: {'n_estimators': 197, 'max_depth': 43, 'max_features': 'sqrt'}. Best is trial 21 with value: 0.8343273387983957.\n"
     ]
    },
    {
     "name": "stderr",
     "output_type": "stream",
     "text": [
      "Best trial: 21. Best value: 0.834327:  92%|█████████▏| 23/25 [8:19:35<56:56, 1708.45s/it]  "
     ]
    },
    {
     "name": "stdout",
     "output_type": "stream",
     "text": [
      "[I 2025-06-16 01:52:35,041] Trial 22 finished with value: 0.834262668022684 and parameters: {'n_estimators': 186, 'max_depth': 43, 'max_features': 'sqrt'}. Best is trial 21 with value: 0.8343273387983957.\n"
     ]
    },
    {
     "name": "stderr",
     "output_type": "stream",
     "text": [
      "Best trial: 21. Best value: 0.834327:  96%|█████████▌| 24/25 [8:47:19<28:15, 1695.13s/it]"
     ]
    },
    {
     "name": "stdout",
     "output_type": "stream",
     "text": [
      "[I 2025-06-16 02:20:19,100] Trial 23 finished with value: 0.8328683259746621 and parameters: {'n_estimators': 161, 'max_depth': 35, 'max_features': 'sqrt'}. Best is trial 21 with value: 0.8343273387983957.\n"
     ]
    },
    {
     "name": "stderr",
     "output_type": "stream",
     "text": [
      "Best trial: 24. Best value: 0.834745: 100%|██████████| 25/25 [9:24:18<00:00, 1354.33s/it]\n"
     ]
    },
    {
     "name": "stdout",
     "output_type": "stream",
     "text": [
      "[I 2025-06-16 02:57:17,795] Trial 24 finished with value: 0.834744975121074 and parameters: {'n_estimators': 200, 'max_depth': 46, 'max_features': 'sqrt'}. Best is trial 24 with value: 0.834744975121074.\n",
      "\n",
      "✅ Best Params: {'n_estimators': 200, 'max_depth': 46, 'max_features': 'sqrt'}\n",
      "⭐ Best F1 Score: 0.8347\n"
     ]
    },
    {
     "name": "stderr",
     "output_type": "stream",
     "text": [
      "[Parallel(n_jobs=7)]: Using backend ThreadingBackend with 7 concurrent workers.\n",
      "[Parallel(n_jobs=7)]: Done  36 tasks      | elapsed: 10.1min\n",
      "[Parallel(n_jobs=7)]: Done 186 tasks      | elapsed: 47.3min\n",
      "[Parallel(n_jobs=7)]: Done 200 out of 200 | elapsed: 50.7min finished\n"
     ]
    },
    {
     "name": "stdout",
     "output_type": "stream",
     "text": [
      "💾 Saved as: backw_final_randomforest_optuna_model.joblib\n"
     ]
    }
   ],
   "source": [
    "import numpy as np\n",
    "import pandas as pd\n",
    "import optuna\n",
    "from sklearn.ensemble import RandomForestClassifier\n",
    "from sklearn.model_selection import train_test_split\n",
    "from sklearn.metrics import f1_score\n",
    "import psutil\n",
    "import os\n",
    "import gc\n",
    "import joblib\n",
    "\n",
    "# === System-aware configuration ===\n",
    "NUM_CORES = os.cpu_count()\n",
    "RAM_GB = psutil.virtual_memory().available / (1024 ** 3)\n",
    "print(f\"🧠 CPU Cores: {NUM_CORES}\")\n",
    "print(f\"💾 Available RAM: {RAM_GB:.2f} GB\")\n",
    "\n",
    "# === Load and Prepare Data ===\n",
    "df = df_combined_shuffled.copy()\n",
    "X = np.stack(df[\"embedding\"].values).astype(np.float32)\n",
    "y = df[\"label\"].values.astype(np.uint8)\n",
    "del df\n",
    "gc.collect()\n",
    "\n",
    "# === Train/Test Split ===\n",
    "X_train, X_valid, y_train, y_valid = train_test_split(\n",
    "    X, y, test_size=0.2, stratify=y, random_state=42\n",
    ")\n",
    "\n",
    "# === Define Objective Function ===\n",
    "def objective(trial):\n",
    "    params = {\n",
    "        \"n_estimators\": trial.suggest_int(\"n_estimators\", 50, 200),\n",
    "        \"max_depth\": trial.suggest_int(\"max_depth\", 10, 50),\n",
    "        \"max_features\": trial.suggest_categorical(\"max_features\", [\"sqrt\", \"log2\"]),\n",
    "        \"n_jobs\": NUM_CORES - 1,\n",
    "        \"random_state\": 42,\n",
    "        \"verbose\": 0\n",
    "    }\n",
    "    model = RandomForestClassifier(**params)\n",
    "    model.fit(X_train, y_train)\n",
    "    y_pred = model.predict(X_valid)\n",
    "    return f1_score(y_valid, y_pred, average=\"weighted\")\n",
    "\n",
    "# === Run Optuna Study ===\n",
    "study = optuna.create_study(direction=\"maximize\")\n",
    "study.optimize(objective, n_trials=25, show_progress_bar=True)\n",
    "\n",
    "# === Output Best Params ===\n",
    "print(f\"\\n✅ Best Params: {study.best_params}\")\n",
    "print(f\"⭐ Best F1 Score: {study.best_value:.4f}\")\n",
    "\n",
    "# === Train Final Model ===\n",
    "best_model = RandomForestClassifier(\n",
    "    **study.best_params,\n",
    "    n_jobs=NUM_CORES - 1,\n",
    "    random_state=42,\n",
    "    verbose=1\n",
    ")\n",
    "best_model.fit(X, y)\n",
    "\n",
    "# === Save Model ===\n",
    "joblib.dump(best_model, \"/home/azureuser/dna_sequencing/model_training/backw_final_randomforest_optuna_model.joblib\")\n",
    "print(\"💾 Saved as: backw_final_randomforest_optuna_model.joblib\")"
   ]
  },
  {
   "cell_type": "code",
   "execution_count": 5,
   "id": "c5e74519",
   "metadata": {},
   "outputs": [
    {
     "name": "stderr",
     "output_type": "stream",
     "text": [
      "[Parallel(n_jobs=-1)]: Using backend ThreadingBackend with 8 concurrent workers.\n",
      "[Parallel(n_jobs=-1)]: Done  34 tasks      | elapsed:  5.6min\n",
      "[Parallel(n_jobs=-1)]: Done 177 out of 177 | elapsed: 25.3min finished\n",
      "[Parallel(n_jobs=8)]: Using backend ThreadingBackend with 8 concurrent workers.\n",
      "[Parallel(n_jobs=8)]: Done  34 tasks      | elapsed:    0.9s\n",
      "[Parallel(n_jobs=8)]: Done 177 out of 177 | elapsed:    4.2s finished\n"
     ]
    },
    {
     "name": "stdout",
     "output_type": "stream",
     "text": [
      "\n",
      "📊 Classification Report (Validation Set):\n",
      "              precision    recall  f1-score   support\n",
      "\n",
      "           0       0.81      0.85      0.83    109641\n",
      "           1       0.86      0.82      0.84    120612\n",
      "\n",
      "    accuracy                           0.83    230253\n",
      "   macro avg       0.83      0.83      0.83    230253\n",
      "weighted avg       0.83      0.83      0.83    230253\n",
      "\n"
     ]
    }
   ],
   "source": [
    "import numpy as np\n",
    "from sklearn.ensemble import RandomForestClassifier\n",
    "from sklearn.model_selection import train_test_split\n",
    "from sklearn.metrics import classification_report\n",
    "\n",
    "# === Prepare Data ===\n",
    "X = np.stack(df_combined_shuffled[\"embedding\"].values).astype(np.float32)\n",
    "y = df_combined_shuffled[\"label\"].values.astype(np.uint8)\n",
    "\n",
    "# === Train/Test Split ===\n",
    "X_train, X_valid, y_train, y_valid = train_test_split(\n",
    "    X, y, test_size=0.2, stratify=y, random_state=42\n",
    ")\n",
    "\n",
    "# === Use Best Found Hyperparameters ===\n",
    "best_params = {\n",
    "    \"n_estimators\": 177,\n",
    "    \"max_depth\": 39,\n",
    "    \"max_features\": \"sqrt\",\n",
    "    \"n_jobs\": -1,\n",
    "    \"random_state\": 42,\n",
    "    \"verbose\": 1\n",
    "}\n",
    "\n",
    "# === Train the Model ===\n",
    "model = RandomForestClassifier(**best_params)\n",
    "model.fit(X_train, y_train)\n",
    "\n",
    "# === Predict and Report ===\n",
    "y_pred = model.predict(X_valid)\n",
    "print(\"\\n📊 Classification Report (Validation Set):\")\n",
    "print(classification_report(y_valid, y_pred, digits=2))"
   ]
  },
  {
   "cell_type": "code",
   "execution_count": 6,
   "id": "bb143ca7",
   "metadata": {},
   "outputs": [
    {
     "name": "stdout",
     "output_type": "stream",
     "text": [
      "💾 Model saved as: backw_final_randomforest_optuna_model.joblib\n"
     ]
    }
   ],
   "source": [
    "import joblib\n",
    "\n",
    "# === Save the Trained Model ===\n",
    "joblib.dump(model, \"/home/azureuser/dna_sequencing/model_training/backw_final_randomforest_optuna_model.joblib\")\n",
    "print(\"💾 Model saved as: backw_final_randomforest_optuna_model.joblib\")"
   ]
  },
  {
   "cell_type": "code",
   "execution_count": null,
   "id": "1b3410b8",
   "metadata": {},
   "outputs": [],
   "source": []
  }
 ],
 "metadata": {
  "kernelspec": {
   "display_name": "dna_sequence",
   "language": "python",
   "name": "python3"
  },
  "language_info": {
   "codemirror_mode": {
    "name": "ipython",
    "version": 3
   },
   "file_extension": ".py",
   "mimetype": "text/x-python",
   "name": "python",
   "nbconvert_exporter": "python",
   "pygments_lexer": "ipython3",
   "version": "3.9.21"
  }
 },
 "nbformat": 4,
 "nbformat_minor": 5
}
